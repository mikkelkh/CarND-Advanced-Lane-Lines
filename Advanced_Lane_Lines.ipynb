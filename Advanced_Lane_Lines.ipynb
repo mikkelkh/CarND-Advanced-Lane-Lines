{
 "cells": [
  {
   "cell_type": "markdown",
   "metadata": {
    "deletable": true,
    "editable": true
   },
   "source": [
    "## Advanced Lane Finding Project\n",
    "\n",
    "The goals / steps of this project are the following:\n",
    "\n",
    "* Compute the camera calibration matrix and distortion coefficients given a set of chessboard images.\n",
    "* Apply a distortion correction to raw images.\n",
    "* Use color transforms, gradients, etc., to create a thresholded binary image.\n",
    "* Apply a perspective transform to rectify binary image (\"birds-eye view\").\n",
    "* Detect lane pixels and fit to find the lane boundary.\n",
    "* Determine the curvature of the lane and vehicle position with respect to center.\n",
    "* Warp the detected lane boundaries back onto the original image.\n",
    "* Output visual display of the lane boundaries and numerical estimation of lane curvature and vehicle position.\n",
    "\n",
    "---\n",
    "### Camera calibration"
   ]
  },
  {
   "cell_type": "code",
   "execution_count": null,
   "metadata": {
    "collapsed": false,
    "deletable": true,
    "editable": true
   },
   "outputs": [],
   "source": [
    "import numpy as np\n",
    "import cv2\n",
    "import glob\n",
    "import matplotlib.pyplot as plt\n",
    "import matplotlib.image as mpimg\n",
    "from scipy.misc import imsave\n",
    "from scipy.misc import imresize\n",
    "%matplotlib inline\n",
    "\n",
    "# prepare object points, like (0,0,0), (1,0,0), (2,0,0) ....,(6,5,0)\n",
    "objp = np.zeros((6*9,3), np.float32)\n",
    "objp[:,:2] = np.mgrid[0:9,0:6].T.reshape(-1,2)\n",
    "\n",
    "# Arrays to store object points and image points from all the images.\n",
    "objpoints = [] # 3d points in real world space\n",
    "imgpoints = [] # 2d points in image plane.\n",
    "\n",
    "# Make a list of calibration images\n",
    "images = glob.glob('camera_cal/calibration*.jpg')\n",
    "\n",
    "# Step through the list and search for chessboard corners\n",
    "for fname in images:\n",
    "    img = mpimg.imread(fname)\n",
    "    gray = cv2.cvtColor(img,cv2.COLOR_RGB2GRAY)\n",
    "\n",
    "    # Find the chessboard corners\n",
    "    ret, corners = cv2.findChessboardCorners(gray, (9,6),None)\n",
    "\n",
    "    # If found, add object points, image points\n",
    "    if ret == True:\n",
    "        objpoints.append(objp)\n",
    "        imgpoints.append(corners)\n",
    "\n",
    "        # Draw and display the corners\n",
    "        #img = cv2.drawChessboardCorners(img, (9,6), corners, ret)\n",
    "        #cv2.imshow('img',img)\n",
    "        #cv2.waitKey(500)\n",
    "\n",
    "cv2.destroyAllWindows()"
   ]
  },
  {
   "cell_type": "code",
   "execution_count": null,
   "metadata": {
    "collapsed": false,
    "deletable": true,
    "editable": true
   },
   "outputs": [],
   "source": [
    "# Calibrate camera\n",
    "ret, mtx, dist, rvecs, tvecs = cv2.calibrateCamera(objpoints, imgpoints, gray.shape[::-1],None,None)\n",
    "\n",
    "# Undistort an example calibration image\n",
    "img = mpimg.imread('camera_cal/calibration1.jpg')\n",
    "dst = cv2.undistort(img, mtx, dist, None, mtx)\n",
    "\n",
    "# Show distorted and undistorted image\n",
    "f, (ax1, ax2) = plt.subplots(1, 2, figsize=(20, 7))\n",
    "f.tight_layout()\n",
    "ax1.imshow(img)\n",
    "ax1.set_title('Distorted', fontsize=30)\n",
    "ax2.imshow(dst)\n",
    "ax2.set_title('Undistorted', fontsize=30)\n",
    "extent = f.get_window_extent().transformed(f.dpi_scale_trans.inverted())\n",
    "plt.savefig('output_images/calibration.jpg', bbox_inches=extent.expanded(1, 1.2), dpi=50)"
   ]
  },
  {
   "cell_type": "markdown",
   "metadata": {},
   "source": [
    "### Distortion correction"
   ]
  },
  {
   "cell_type": "code",
   "execution_count": null,
   "metadata": {
    "collapsed": false
   },
   "outputs": [],
   "source": [
    "def undistort(img,mtx,dist,generate_examples=False):\n",
    "    undistorted = cv2.undistort(img, mtx, dist, None, mtx)\n",
    "    \n",
    "    # Save sample undistorted image\n",
    "    \n",
    "    if generate_examples:\n",
    "        f, (ax1, ax2) = plt.subplots(1, 2, figsize=(20,7))\n",
    "        f.tight_layout()\n",
    "        ax1.imshow(img)\n",
    "        ax1.set_title('Original distorted image', fontsize=30)\n",
    "        ax2.imshow(undistorted)\n",
    "        ax2.set_title('Undistorted image', fontsize=30)\n",
    "        # Save figure\n",
    "        extent = f.get_window_extent().transformed(f.dpi_scale_trans.inverted())\n",
    "        plt.savefig('output_images/distortion.jpg', bbox_inches=extent.expanded(1, 1.2), dpi=50)\n",
    "    \n",
    "    return undistorted"
   ]
  },
  {
   "cell_type": "markdown",
   "metadata": {
    "deletable": true,
    "editable": true
   },
   "source": [
    "### Thresholded binary image "
   ]
  },
  {
   "cell_type": "code",
   "execution_count": null,
   "metadata": {
    "collapsed": false,
    "deletable": true,
    "editable": true
   },
   "outputs": [],
   "source": [
    "def thresh_image(undistorted, sobel_kernel=3, h_thresh=(255,255), l_thresh=(255,255), s_thresh=(255, 255), sobelx_thresh=(255, 255), sobely_thresh=(255, 255), mag_thresh=(255,255), dir_thresh=(0,0), generate_examples=False):\n",
    "    # HLS color space\n",
    "    hls = cv2.cvtColor(undistorted, cv2.COLOR_RGB2HLS)\n",
    "    h_channel = hls[:,:,0]\n",
    "    l_channel = hls[:,:,1]\n",
    "    s_channel = hls[:,:,2]\n",
    "    h_binary = np.zeros_like(h_channel)\n",
    "    h_binary[(h_channel > h_thresh[0]) & (h_channel <= h_thresh[1])] = 1\n",
    "    l_binary = np.zeros_like(l_channel)\n",
    "    l_binary[(l_channel > l_thresh[0]) & (l_channel <= l_thresh[1])] = 1\n",
    "    s_binary = np.zeros_like(s_channel)\n",
    "    s_binary[(s_channel > s_thresh[0]) & (s_channel <= s_thresh[1])] = 1\n",
    "    \n",
    "    # Sobel\n",
    "    gray = cv2.cvtColor(undistorted, cv2.COLOR_RGB2GRAY)\n",
    "    sobelx = cv2.Sobel(gray, cv2.CV_64F, 1, 0, ksize=sobel_kernel) # Take the derivative in x\n",
    "    abs_sobelx = np.absolute(sobelx) # Absolute x derivative to accentuate lines away from horizontal\n",
    "    scaled_sobelx = np.uint8(255*abs_sobelx/np.max(abs_sobelx))\n",
    "    sobelx_binary = np.zeros_like(scaled_sobelx)\n",
    "    sobelx_binary[(scaled_sobelx >= sobelx_thresh[0]) & (scaled_sobelx <= sobelx_thresh[1])] = 1\n",
    "    \n",
    "    sobely = cv2.Sobel(gray, cv2.CV_64F, 0, 1, ksize=sobel_kernel) # Take the derivative in y\n",
    "    abs_sobely = np.absolute(sobely) # Absolute y derivative to accentuate lines away from vertical\n",
    "    scaled_sobely = np.uint8(255*abs_sobely/np.max(abs_sobely))\n",
    "    sobely_binary = np.zeros_like(scaled_sobely)\n",
    "    sobely_binary[(scaled_sobely >= sobely_thresh[0]) & (scaled_sobely <= sobely_thresh[1])] = 1\n",
    "    \n",
    "    # Magnitude\n",
    "    gradmag = np.sqrt(sobelx**2 + sobely**2)\n",
    "    scale_factor = np.max(gradmag)/255 \n",
    "    gradmag = (gradmag/scale_factor).astype(np.uint8) \n",
    "    mag_binary = np.zeros_like(gradmag)\n",
    "    mag_binary[(gradmag >= mag_thresh[0]) & (gradmag <= mag_thresh[1])] = 1\n",
    "    \n",
    "    # Direction\n",
    "    absgraddir = np.arctan2(np.absolute(sobely), np.absolute(sobelx))\n",
    "    dir_binary =  np.zeros_like(absgraddir)\n",
    "    dir_binary[(absgraddir >= dir_thresh[0]) & (absgraddir <= dir_thresh[1])] = 1\n",
    "    \n",
    "    # Combine the binary thresholds\n",
    "    # HLS (use only a combination of L and S that can handle shadows)\n",
    "    hls_binary = np.zeros_like(s_binary)\n",
    "    hls_binary[((l_binary == 0) & (s_binary == 1))] = 1\n",
    "    \n",
    "    # Sobel (x and y)\n",
    "    sobel_binary = np.zeros_like(sobelx_binary)\n",
    "    sobel_binary[(sobelx_binary == 1) & (sobely_binary == 1)] = 1\n",
    "    \n",
    "    # Magnitude and direction\n",
    "    magdir_binary = np.zeros_like(mag_binary)\n",
    "    magdir_binary[(mag_binary == 1) & (dir_binary == 1)] = 1\n",
    "    \n",
    "    # Combine all: pass if either HLS, Sobel or Magnitude is large enough\n",
    "    combined_binary = np.zeros_like(hls_binary)\n",
    "    combined_binary[(hls_binary == 1) | (sobel_binary == 1) | (magdir_binary == 1)] = 1\n",
    "    \n",
    "    # Show example\n",
    "    if generate_examples:\n",
    "        f, (ax1, ax2) = plt.subplots(1, 2, figsize=(20, 7))\n",
    "        f.tight_layout()\n",
    "        ax1.imshow(undistorted)\n",
    "        ax1.set_title('Original Image', fontsize=30)\n",
    "        ax2.imshow(combined_binary, cmap='gray')\n",
    "        ax2.set_title('Thresholded S', fontsize=30)\n",
    "        extent = f.get_window_extent().transformed(f.dpi_scale_trans.inverted())\n",
    "        plt.savefig('output_images/threshold.jpg', bbox_inches=extent.expanded(1, 1.2), dpi=50)\n",
    "        imsave('output_images/thresholded.jpg',combined_binary.astype(np.bool_))\n",
    "    \n",
    "    return combined_binary"
   ]
  },
  {
   "cell_type": "markdown",
   "metadata": {},
   "source": [
    "### Perspective transform"
   ]
  },
  {
   "cell_type": "code",
   "execution_count": null,
   "metadata": {
    "collapsed": true
   },
   "outputs": [],
   "source": [
    "def warp_image(undistorted, generate_examples=False):\n",
    "    # src points were found manually with an external image editor\n",
    "    src = np.float32([[1110,720],[685,448],[598,448],[217,720]])\n",
    "    dst = np.float32([[1000,730],[1000,0],[300,0],[300,730]])\n",
    "    \n",
    "    M = cv2.getPerspectiveTransform(src, dst)\n",
    "    Minv = cv2.getPerspectiveTransform(dst, src) # Inverse perspective matrix\n",
    "    img_size = (undistorted.shape[1],undistorted.shape[0])\n",
    "    warped_img = cv2.warpPerspective(undistorted, M, img_size, flags=cv2.INTER_LINEAR)\n",
    "    \n",
    "    # Save sample perspective transformed image\n",
    "    if generate_examples:\n",
    "        undistortedSrcPts = undistorted.copy()\n",
    "        cv2.polylines(undistortedSrcPts,[src.astype(np.int32).reshape((-1,1,2))],True,(255,0,0),3)\n",
    "        warped_imgDstPts = warped_img.copy()\n",
    "        cv2.polylines(warped_imgDstPts,[dst.astype(np.int32).reshape((-1,1,2))],True,(255,0,0),3)\n",
    "        f, (ax1, ax2) = plt.subplots(1, 2, figsize=(20,7))\n",
    "        f.tight_layout()\n",
    "        ax1.imshow(undistortedSrcPts)\n",
    "        ax1.set_title('Undistorted image with src points', fontsize=30)\n",
    "        ax2.imshow(warped_imgDstPts)\n",
    "        ax2.set_title('Warped image with dst points', fontsize=30)\n",
    "        extent = f.get_window_extent().transformed(f.dpi_scale_trans.inverted())\n",
    "        plt.savefig('output_images/perspective.jpg', bbox_inches=extent.expanded(1, 1.2), dpi=50)\n",
    "    \n",
    "    return warped_img, Minv"
   ]
  },
  {
   "cell_type": "markdown",
   "metadata": {},
   "source": [
    "### Detect lane pixels"
   ]
  },
  {
   "cell_type": "code",
   "execution_count": null,
   "metadata": {
    "collapsed": false,
    "deletable": true,
    "editable": true
   },
   "outputs": [],
   "source": [
    "def lane_pixels(warped_binary, visualize=False):\n",
    "    # The following is adapted from Udacity sample code\n",
    "    # Construct histogram to find initial lane positions\n",
    "    histogram = np.sum(warped_binary[int(warped_binary.shape[0]/2):,:], axis=0)\n",
    "    \n",
    "    # Find left and right line as peaks in histogram\n",
    "    midpoint = np.int(histogram.shape[0]/2)\n",
    "    leftx_base = np.argmax(histogram[:midpoint])\n",
    "    rightx_base = np.argmax(histogram[midpoint:]) + midpoint\n",
    "\n",
    "    # Sliding (vertical) window to \"track\" lane lines\n",
    "    out_img = np.dstack((warped_binary.astype(np.uint8), warped_binary.astype(np.uint8), warped_binary.astype(np.uint8)))*255\n",
    "\n",
    "    # Choose the number of sliding windows\n",
    "    nwindows = 10\n",
    "    # Set height of windows\n",
    "    window_height = np.int(warped_binary.shape[0]/nwindows)\n",
    "    # Identify the x and y positions of all nonzero pixels in the image\n",
    "    nonzero = warped_binary.nonzero()\n",
    "    nonzeroy = np.array(nonzero[0])\n",
    "    nonzerox = np.array(nonzero[1])\n",
    "    # Current positions to be updated for each window\n",
    "    leftx_current = leftx_base\n",
    "    rightx_current = rightx_base\n",
    "    # Set the width of the windows +/- margin\n",
    "    margin = 80\n",
    "    # Set minimum number of pixels found to recenter window\n",
    "    minpix = 50\n",
    "    # Create empty lists to receive left and right lane pixel indices\n",
    "    left_lane_inds = []\n",
    "    right_lane_inds = []\n",
    "\n",
    "    # Step through the windows one by one\n",
    "    for window in range(nwindows):\n",
    "        # Identify window boundaries in x and y (and right and left)\n",
    "        win_y_low = warped_binary.shape[0] - (window+1)*window_height\n",
    "        win_y_high = warped_binary.shape[0] - window*window_height\n",
    "        win_xleft_low = leftx_current - margin\n",
    "        win_xleft_high = leftx_current + margin\n",
    "        win_xright_low = rightx_current - margin\n",
    "        win_xright_high = rightx_current + margin\n",
    "        # Draw the windows on the visualization image\n",
    "        cv2.rectangle(out_img,(win_xleft_low,win_y_low),(win_xleft_high,win_y_high),(0,255,0), 2) \n",
    "        cv2.rectangle(out_img,(win_xright_low,win_y_low),(win_xright_high,win_y_high),(0,255,0), 2) \n",
    "        # Identify the nonzero pixels in x and y within the window\n",
    "        good_left_inds = ((nonzeroy >= win_y_low) & (nonzeroy < win_y_high) & (nonzerox >= win_xleft_low) & (nonzerox < win_xleft_high)).nonzero()[0]\n",
    "        good_right_inds = ((nonzeroy >= win_y_low) & (nonzeroy < win_y_high) & (nonzerox >= win_xright_low) & (nonzerox < win_xright_high)).nonzero()[0]\n",
    "        # Append these indices to the lists\n",
    "        left_lane_inds.append(good_left_inds)\n",
    "        right_lane_inds.append(good_right_inds)\n",
    "        # If you found > minpix pixels, recenter next window on their mean position\n",
    "        if len(good_left_inds) > minpix:\n",
    "            leftx_current = np.int(np.mean(nonzerox[good_left_inds]))\n",
    "        if len(good_right_inds) > minpix:        \n",
    "            rightx_current = np.int(np.mean(nonzerox[good_right_inds]))\n",
    "\n",
    "    # Concatenate the arrays of indices\n",
    "    left_lane_inds = np.concatenate(left_lane_inds)\n",
    "    right_lane_inds = np.concatenate(right_lane_inds)\n",
    "\n",
    "    # Extract left and right line pixel positions\n",
    "    leftx = nonzerox[left_lane_inds]\n",
    "    lefty = nonzeroy[left_lane_inds]\n",
    "    rightx = nonzerox[right_lane_inds]\n",
    "    righty = nonzeroy[right_lane_inds]\n",
    "    \n",
    "    if visualize:\n",
    "        f, (ax1, ax2) = plt.subplots(1, 2, figsize=(24, 6))\n",
    "        f.tight_layout()\n",
    "        # Plot histogram\n",
    "        ax1.plot(histogram)\n",
    "        ax1.plot((leftx_base, leftx_base), (0, np.amax(histogram,axis=0)+20), 'r-')\n",
    "        ax1.plot((rightx_base, rightx_base), (0, np.amax(histogram,axis=0)+20), 'b-')\n",
    "        ax1.set_title('Initial Lane Position Histogram', fontsize=30)\n",
    "        # Plot lane pixels\n",
    "        out_img[nonzeroy[left_lane_inds], nonzerox[left_lane_inds]] = [255, 0, 0]\n",
    "        out_img[nonzeroy[right_lane_inds], nonzerox[right_lane_inds]] = [0, 0, 255]\n",
    "        ax2.imshow(out_img)\n",
    "        ax2.set_title('Lane pixels and sliding windows', fontsize=30)\n",
    "        # Save figure\n",
    "        extent = f.get_window_extent().transformed(f.dpi_scale_trans.inverted())\n",
    "        plt.savefig('output_images/lane_pixels.jpg', bbox_inches=extent.expanded(1, 1.2), dpi=50)\n",
    "    \n",
    "    return leftx, lefty, rightx, righty"
   ]
  },
  {
   "cell_type": "markdown",
   "metadata": {},
   "source": [
    "### Find road boundary"
   ]
  },
  {
   "cell_type": "code",
   "execution_count": null,
   "metadata": {
    "collapsed": true
   },
   "outputs": [],
   "source": [
    "# Define a class to receive the characteristics of each line detection\n",
    "class Line():\n",
    "    def __init__(self):\n",
    "        #polynomial coefficients for the most recent fit\n",
    "        self.current_fit = [np.array([False])]  \n",
    "        #radius of curvature of the line in some units\n",
    "        self.radius_of_curvature = None \n",
    "        #x values for detected line pixels\n",
    "        self.allx = None  \n",
    "        #y values for detected line pixels\n",
    "        self.ally = None\n",
    "\n",
    "# Fit polygon to line pixels\n",
    "def fit_polygon(x,y,line):\n",
    "    # Fit a second order polynomial to the line coordinates, x and y\n",
    "    line.current_fit = np.polyfit(y, x, 2)\n",
    "    ploty = np.linspace(0, 719, num=720)\n",
    "    line.allx = line.current_fit[0]*ploty**2 + line.current_fit[1]*ploty + line.current_fit[2]\n",
    "    line.ally = ploty"
   ]
  },
  {
   "cell_type": "markdown",
   "metadata": {},
   "source": [
    "### Curvature and vehicle position"
   ]
  },
  {
   "cell_type": "code",
   "execution_count": null,
   "metadata": {
    "collapsed": true
   },
   "outputs": [],
   "source": [
    "def road_stats(left_line,right_line):\n",
    "    # Conversion from pixel to meters\n",
    "    ym_per_pix = 30/720 # meters per pixel in y dimension\n",
    "    xm_per_pix = 3.7/680 # meters per pixel in x dimension\n",
    "    \n",
    "    # Calculate left and right curvature in meters\n",
    "    y_eval = np.max(left_line.ally)\n",
    "    left_line.radius_of_curvature = ((1 + (2*left_line.current_fit[0]*y_eval*ym_per_pix + left_line.current_fit[1])**2)**1.5) / np.absolute(2*left_line.current_fit[0])\n",
    "    right_line.radius_of_curvature = ((1 + (2*right_line.current_fit[0]*y_eval*ym_per_pix + right_line.current_fit[1])**2)**1.5) / np.absolute(2*right_line.current_fit[0])\n",
    "    # Calculate mean of the two curvatures\n",
    "    curvature = (left_line.radius_of_curvature+right_line.radius_of_curvature)/2\n",
    "    \n",
    "    # Calculate vehicle position on the road wrt. the center\n",
    "    left_xstart = np.polyval(left_line.current_fit,720)\n",
    "    right_xstart = np.polyval(right_line.current_fit,720)\n",
    "    center_lane = (right_xstart+left_xstart)/2\n",
    "    center_car = 1280 / 2\n",
    "    position = (center_lane-center_car)*xm_per_pix\n",
    "    \n",
    "    return curvature, position"
   ]
  },
  {
   "cell_type": "markdown",
   "metadata": {},
   "source": [
    "### Draw lane and display vehicle status"
   ]
  },
  {
   "cell_type": "code",
   "execution_count": null,
   "metadata": {
    "collapsed": true
   },
   "outputs": [],
   "source": [
    "def draw_lane(shape, left_line, right_line):\n",
    "    # Create an image to draw the lines on\n",
    "    warp_zero = np.zeros(shape).astype(np.uint8)\n",
    "    color_warp = np.dstack((warp_zero, warp_zero, warp_zero))\n",
    "\n",
    "    # Recast the x and y points into usable format for cv2.fillPoly()\n",
    "    pts_left = np.array([np.transpose(np.vstack([left_line.allx, left_line.ally]))])\n",
    "    pts_right = np.array([np.flipud(np.transpose(np.vstack([right_line.allx, right_line.ally])))])\n",
    "    pts = np.hstack((pts_left, pts_right))\n",
    "\n",
    "    # Draw the lane onto the warped blank image\n",
    "    cv2.fillPoly(color_warp, np.int_([pts]), (0,255, 0))\n",
    "    \n",
    "    return color_warp\n",
    "\n",
    "def draw_status(img, left_line, right_line):\n",
    "    # Get road status (curvature and position)\n",
    "    curvature, position = road_stats(left_line, right_line)\n",
    "\n",
    "    curvature_txt = 'Radius  of Curvature = {0:0.3f}m'.format(curvature)\n",
    "    position_txt = 'Vehicle is {0:0.3f}m left of center'.format(position)\n",
    "\n",
    "    # Print road status onto the image\n",
    "    cv2.putText(img, curvature_txt, (22, 40), cv2.FONT_HERSHEY_SIMPLEX, 1, (255, 255, 255), 2)\n",
    "    cv2.putText(img, position_txt, (22, 80), cv2.FONT_HERSHEY_SIMPLEX, 1, (255, 255, 255), 2)\n",
    "\n",
    "    return img"
   ]
  },
  {
   "cell_type": "markdown",
   "metadata": {},
   "source": [
    "## Pipeline function (combine all the above)"
   ]
  },
  {
   "cell_type": "code",
   "execution_count": null,
   "metadata": {
    "collapsed": false
   },
   "outputs": [],
   "source": [
    "def process_image(img, generate_examples=False):\n",
    "    ## Correct for distortion (using above camera calibration)\n",
    "    undistorted = undistort(img,mtx,dist,generate_examples)\n",
    "        \n",
    "    # Compute binary gradient image\n",
    "    combined_binary = thresh_image(undistorted, sobel_kernel=3, \n",
    "                                     h_thresh=(10, 100), l_thresh=(0, 60), s_thresh=(85, 255),\n",
    "                                     sobelx_thresh=(35, 100), sobely_thresh=(30, 255), \n",
    "                                     mag_thresh=(30, 255), dir_thresh=(0.7, 1.3), generate_examples=generate_examples)\n",
    "    \n",
    "    ## Perspective transform\n",
    "    warped_img,Minv = warp_image(undistorted, generate_examples=generate_examples)\n",
    "    warped_binary,_ = warp_image(combined_binary.astype(np.float32))\n",
    "    warped_binary = warped_binary.astype(np.bool_)\n",
    "    \n",
    "    # Detect lane pixels\n",
    "    leftx, lefty, rightx, righty = lane_pixels(warped_binary, generate_examples)\n",
    "        \n",
    "    # Instantiate a class for each line (left and right)\n",
    "    left_line = Line()\n",
    "    right_line = Line()\n",
    "\n",
    "    # Fit polygons\n",
    "    fit_polygon(leftx,lefty,left_line)\n",
    "    fit_polygon(rightx,righty,right_line)\n",
    "    \n",
    "    # Plot fitted polygons\n",
    "    if generate_examples:\n",
    "        warped_img_overlaid = warped_img.copy()\n",
    "        warped_img_overlaid[lefty,leftx,:] = [255,0,0]\n",
    "        warped_img_overlaid[righty,rightx,:] = [0,0,255]\n",
    "        plt.figure()\n",
    "        plt.imshow(warped_img_overlaid)\n",
    "        left_fitx = left_line.current_fit[0]*left_line.ally**2 + left_line.current_fit[1]*left_line.ally + left_line.current_fit[2]\n",
    "        right_fitx = right_line.current_fit[0]*right_line.ally**2 + right_line.current_fit[1]*right_line.ally + right_line.current_fit[2]\n",
    "        plt.plot(left_fitx, left_line.ally, color='yellow')\n",
    "        plt.plot(right_fitx, right_line.ally, color='yellow')\n",
    "        plt.title('Lane polygons', fontsize=30)\n",
    "        plt.savefig('output_images/polygons.jpg')\n",
    "\n",
    "    # Draw lane, same size as warped image\n",
    "    warped_lane = draw_lane(warped_binary.shape, left_line, right_line)\n",
    "\n",
    "    # Unwarp the lane image using inverse perspective matrix (Minv)\n",
    "    unwarped_lane = cv2.warpPerspective(warped_lane, Minv, (warped_img.shape[1], warped_img.shape[0])) \n",
    "    \n",
    "    # Overlay the unwarped lane image onto the original image\n",
    "    result = cv2.addWeighted(undistorted, 1, unwarped_lane, 0.3, 0)\n",
    "    \n",
    "    # Print road status onto image\n",
    "    result_status_overlaid = draw_status(result, left_line, right_line)\n",
    "    \n",
    "    return result_status_overlaid"
   ]
  },
  {
   "cell_type": "markdown",
   "metadata": {},
   "source": [
    "## Pipeline (test images)"
   ]
  },
  {
   "cell_type": "code",
   "execution_count": null,
   "metadata": {
    "collapsed": false,
    "deletable": true,
    "editable": true
   },
   "outputs": [],
   "source": [
    "# Make a list of test images\n",
    "images = glob.glob('test_images/*.jpg')\n",
    "\n",
    "#images = images[2:3]\n",
    "images = images[3:4]\n",
    "\n",
    "for idx,fname in enumerate(images):\n",
    "    generate_examples = True\n",
    "    \n",
    "    # Load image\n",
    "    img = mpimg.imread(fname)\n",
    "\n",
    "    # Run processing pipeline\n",
    "    result = process_image(img, generate_examples)\n",
    "    \n",
    "    # Save result\n",
    "    imsave('output_images/' + fname,result)\n",
    "    \n",
    "    # Plot\n",
    "    plt.figure(figsize=(15,8))\n",
    "    plt.imshow(result)"
   ]
  },
  {
   "cell_type": "markdown",
   "metadata": {
    "deletable": true,
    "editable": true
   },
   "source": [
    "## Pipeline (video)"
   ]
  },
  {
   "cell_type": "code",
   "execution_count": null,
   "metadata": {
    "collapsed": false,
    "deletable": true,
    "editable": true
   },
   "outputs": [],
   "source": [
    "# Import everything needed to edit/save/watch video clips\n",
    "from moviepy.editor import VideoFileClip\n",
    "from IPython.display import HTML\n",
    "\n",
    "# Open video and process each frame\n",
    "output = 'project_video_result.mp4'\n",
    "clip1 = VideoFileClip(\"project_video.mp4\")\n",
    "white_clip = clip1.fl_image(process_image) #NOTE: this function expects color images!!\n",
    "%time white_clip.write_videofile(output, audio=False)"
   ]
  }
 ],
 "metadata": {
  "anaconda-cloud": {},
  "kernelspec": {
   "display_name": "Python 3",
   "language": "python",
   "name": "python3"
  },
  "language_info": {
   "codemirror_mode": {
    "name": "ipython",
    "version": 3
   },
   "file_extension": ".py",
   "mimetype": "text/x-python",
   "name": "python",
   "nbconvert_exporter": "python",
   "pygments_lexer": "ipython3",
   "version": "3.5.2"
  },
  "widgets": {
   "state": {},
   "version": "1.1.2"
  }
 },
 "nbformat": 4,
 "nbformat_minor": 1
}
